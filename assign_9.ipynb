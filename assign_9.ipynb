{
 "cells": [
  {
   "cell_type": "code",
   "execution_count": 2,
   "id": "5973d82f-9c2b-4066-97c4-4871db0dbbce",
   "metadata": {},
   "outputs": [
    {
     "name": "stdout",
     "output_type": "stream",
     "text": [
      "the number of wheels in bus are:- 6\n",
      "the number of wheels in auto are:- 3\n",
      "the number of wheels in car are:- 4\n"
     ]
    }
   ],
   "source": [
    " qsn1 solution:-\n",
    "\n",
    "'''abstraction is the most important key feature of object oriented programming and is defined as hiding the implementation\n",
    " of logic from the client. the user is only able to view basic functionalities whereas the internal details are hidden, in this\n",
    " way the user knows what he is doing but not how the work is being done.\n",
    "\n",
    " For example:-\n",
    " as we all use the social platforms and contact our friends, chat, share images etc. but we don’t know how these operations are happening\n",
    " in the background.That is exactly the abstraction that works in the OOP.\n",
    "\n",
    " one more example:- '''\n",
    "\n",
    "from abc import ABC, abstractmethod\n",
    "class vehicle(ABC):\n",
    "    @abstractmethod\n",
    "    def numofwheels(self):\n",
    "        pass\n",
    "class bus(vehicle):\n",
    "    def numofwheels(self):\n",
    "        return 6\n",
    "class auto(vehicle):\n",
    "    def numofwheels(self):\n",
    "        return 3\n",
    "class car(vehicle):\n",
    "    def numofwheels(vehicle):\n",
    "        return 4\n",
    "\n",
    "a = bus()\n",
    "b = auto()\n",
    "c = car()\n",
    "print('the number of wheels in bus are:-', a.numofwheels())\n",
    "print('the number of wheels in auto are:-', b.numofwheels())\n",
    "print('the number of wheels in car are:-', c.numofwheels())\n"
   ]
  },
  {
   "cell_type": "code",
   "execution_count": null,
   "id": "3ca1a92e-6ef3-43ff-9c1c-4fa9b84f0a67",
   "metadata": {},
   "outputs": [],
   "source": [
    "''' qsn2 solution:-                                                |   \n",
    "                                                                   |\n",
    "            ABSTRACTION                                            |                                      ENCAPSULATION\n",
    "                                                                   |\n",
    "1) abstraction is used for hiding unwanted data and giving only    | 1) encapsulation means hiding the code and data into a single unit to protect\n",
    "   relevant data.                                                  |    the data from outside world.\n",
    "                                                                   |\n",
    "2) it let you focus on what the object does instead of how it does.| 2) it hides internal details or mechanics of how an object does something.\n",
    "                                                                   |\n",
    "3) abstraction solve the problem in design level.                  | 3) encapsulation solves the problems in the implementation level.\n",
    "                                                                   |\n",
    "4) example outer screen of mobile, like it has a display and keypad| 4) example inner implementation detail of a phone how keypad and display screen\n",
    "   button to dial.                                                 |    are connected with each other using circuit.\n",
    "                                                                   |\n",
    "5) hides the implementation details to reduce the code complexicity| 5) hides the data for the purpose of data protection and restrict unwanted access.\n",
    "                                                                   |                                                                               \n",
    "6) it can be obtained by importing ABC and abstractmethod from abc | 6) it is obtained by applying double underscore before the variable.\n",
    "   module.'''"
   ]
  },
  {
   "cell_type": "code",
   "execution_count": null,
   "id": "180224fd-2870-4673-95fe-8ae5edc40ba4",
   "metadata": {},
   "outputs": [],
   "source": [
    "#qsn3 solution:-\n",
    "\n",
    "'Python has a module called abc (abstract base class) that offers the necessary tools for crafting an abstract base class.\n",
    "'it helps us to import various functionalities like abstractmethod,ABC and so on.\n"
   ]
  },
  {
   "cell_type": "code",
   "execution_count": 2,
   "id": "a8005799-570e-4b95-8030-a1974e8b772c",
   "metadata": {},
   "outputs": [
    {
     "name": "stdout",
     "output_type": "stream",
     "text": [
      "the number of seats in bus are:- 25\n",
      "the number of seats in auto are:- 9\n",
      "the number of seats in car are:- 5\n"
     ]
    }
   ],
   "source": [
    "#qsn4 solution:-\n",
    "\n",
    "#Data Abstraction in Python can be achieved through creating abstract classes and inheriting them later in the child classes.\n",
    "\n",
    "from abc import ABC, abstractmethod\n",
    "#abstract class.\n",
    "class vehicle(ABC):\n",
    "    @abstractmethod\n",
    "    def seats(self):\n",
    "        pass\n",
    "class bus(vehicle):\n",
    "    def seats(self):\n",
    "        return 25\n",
    "class auto(vehicle):\n",
    "    def seats(self):\n",
    "        return 9\n",
    "class car(vehicle):\n",
    "    def seats(vehicle):\n",
    "        return 5\n",
    "\n",
    "a = bus()\n",
    "b = auto()\n",
    "c = car()\n",
    "print('the number of seats in bus are:-', a.seats())\n",
    "print('the number of seats in auto are:-', b.seats())\n",
    "print('the number of seats in car are:-', c.seats())\n"
   ]
  },
  {
   "cell_type": "code",
   "execution_count": 3,
   "id": "e14059c0-ddcb-4492-bdc9-10a43203de97",
   "metadata": {},
   "outputs": [],
   "source": [
    "#qsn5 solution:-\n",
    "'''yes we can create instance of abstract class but only when abstract method is not available under the abstract class.\n",
    "   for example:- '''\n",
    "\n",
    "from abc import ABC\n",
    "#abstract class\n",
    "class letscheck(ABC):\n",
    "    def is_it_possible(self):\n",
    "        return \"yes it is possible\""
   ]
  },
  {
   "cell_type": "code",
   "execution_count": 4,
   "id": "7d4cc216-6870-463c-b42b-149e25a127bc",
   "metadata": {},
   "outputs": [],
   "source": [
    "t = letscheck()"
   ]
  },
  {
   "cell_type": "code",
   "execution_count": 6,
   "id": "b252445f-04a5-4ab1-8196-f5cbad0c7426",
   "metadata": {},
   "outputs": [
    {
     "data": {
      "text/plain": [
       "'yes it is possible'"
      ]
     },
     "execution_count": 6,
     "metadata": {},
     "output_type": "execute_result"
    }
   ],
   "source": [
    "t.is_it_possible()"
   ]
  },
  {
   "cell_type": "code",
   "execution_count": 9,
   "id": "ccdb9f22-d848-4449-a98d-6f14b37cadf9",
   "metadata": {},
   "outputs": [],
   "source": [
    "#now if we put abstractmethod then we can't create instance of abstract class let's see with an example again:-\n",
    "\n",
    "from abc import ABC,abstractmethod\n",
    "#abstract class\n",
    "class letscheck1(ABC):\n",
    "    @abstractmethod\n",
    "    def is_it_possible(self):\n",
    "        return \"yes it is possible\""
   ]
  },
  {
   "cell_type": "code",
   "execution_count": 10,
   "id": "8b6552f9-91f0-4c7d-926c-b1b804e20cc3",
   "metadata": {},
   "outputs": [
    {
     "ename": "TypeError",
     "evalue": "Can't instantiate abstract class letscheck1 with abstract method is_it_possible",
     "output_type": "error",
     "traceback": [
      "\u001b[0;31m---------------------------------------------------------------------------\u001b[0m",
      "\u001b[0;31mTypeError\u001b[0m                                 Traceback (most recent call last)",
      "Cell \u001b[0;32mIn[10], line 1\u001b[0m\n\u001b[0;32m----> 1\u001b[0m q \u001b[38;5;241m=\u001b[39m \u001b[43mletscheck1\u001b[49m\u001b[43m(\u001b[49m\u001b[43m)\u001b[49m\n",
      "\u001b[0;31mTypeError\u001b[0m: Can't instantiate abstract class letscheck1 with abstract method is_it_possible"
     ]
    }
   ],
   "source": [
    "q = letscheck1()"
   ]
  },
  {
   "cell_type": "code",
   "execution_count": null,
   "id": "552d5b50-6877-4492-a57e-c1d063663b6d",
   "metadata": {},
   "outputs": [],
   "source": [
    "# see we can't create instance if abstractmethod is present under abstract class."
   ]
  }
 ],
 "metadata": {
  "kernelspec": {
   "display_name": "Python 3 (ipykernel)",
   "language": "python",
   "name": "python3"
  },
  "language_info": {
   "codemirror_mode": {
    "name": "ipython",
    "version": 3
   },
   "file_extension": ".py",
   "mimetype": "text/x-python",
   "name": "python",
   "nbconvert_exporter": "python",
   "pygments_lexer": "ipython3",
   "version": "3.10.8"
  }
 },
 "nbformat": 4,
 "nbformat_minor": 5
}
